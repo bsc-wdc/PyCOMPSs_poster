{
 "cells": [
  {
   "cell_type": "markdown",
   "metadata": {
    "collapsed": true
   },
   "source": [
    "# Wordcount\n",
    "\n",
    "Counts the number of appearances of each word from a set of files."
   ]
  },
  {
   "cell_type": "code",
   "execution_count": 1,
   "metadata": {},
   "outputs": [],
   "source": [
    "import pycompss.interactive as ipycompss"
   ]
  },
  {
   "cell_type": "code",
   "execution_count": 2,
   "metadata": {},
   "outputs": [
    {
     "name": "stdout",
     "output_type": "stream",
     "text": [
      "******************************************************\n",
      "*************** PyCOMPSs Interactive *****************\n",
      "******************************************************\n",
      "*          .-~~-.--.           _____       ________  *\n",
      "*         :         )         |____ \\     |____   /  *\n",
      "*   .~ ~ -.\\       /.- ~~ .     ___) |        /  /   *\n",
      "*   >       `.   .'       <    / ___/        /  /    *\n",
      "*  (         .- -.         )  | |___   _    /  /     *\n",
      "*   `- -.-~  `- -'  ~-.- -'   |_____| |_|  /__/      *\n",
      "*     (        :        )           _ _ .-:          *\n",
      "*      ~--.    :    .--~        .-~  .-~  }          *\n",
      "*          ~-.-^-.-~ \\_      .~  .-~   .~            *\n",
      "*                   \\ \\ '     \\ '_ _ -~              *\n",
      "*                    \\`.\\`.    //                    *\n",
      "*           . - ~ ~-.__\\`.\\`-.//                     *\n",
      "*       .-~   . - ~  }~ ~ ~-.~-.                     *\n",
      "*     .' .-~      .-~       :/~-.~-./:               *\n",
      "*    /_~_ _ . - ~                 ~-.~-._            *\n",
      "*                                     ~-.<           *\n",
      "******************************************************\n",
      "* - Starting COMPSs runtime...                       *\n",
      "* - Log path : /home/user/.COMPSs/Interactive_01/\n",
      "* - PyCOMPSs Runtime started... Have fun!            *\n",
      "******************************************************\n"
     ]
    }
   ],
   "source": [
    "import os\n",
    "if 'BINDER_SERVICE_HOST' in os.environ:\n",
    "    ipycompss.start(graph=True, trace=True, debug=False,\n",
    "                    project_xml='../xml/project.xml',\n",
    "                    resources_xml='../xml/resources.xml')\n",
    "else:\n",
    "    ipycompss.start(graph=True, monitor=1000)  # trace=True"
   ]
  },
  {
   "cell_type": "code",
   "execution_count": 3,
   "metadata": {},
   "outputs": [],
   "source": [
    "from pycompss.api.task import task\n",
    "from pycompss.api.parameter import *"
   ]
  },
  {
   "cell_type": "code",
   "execution_count": 4,
   "metadata": {},
   "outputs": [
    {
     "name": "stdout",
     "output_type": "stream",
     "text": [
      "Found task: word_count\n"
     ]
    }
   ],
   "source": [
    "@task(returns=dict, file_path=FILE_IN)\n",
    "def word_count(file_path):\n",
    "    \"\"\"\n",
    "    Read the given file and construct a frequency word dictionary from a list of words.\n",
    "    :param data: a list of words\n",
    "    :return: a dictionary where key=word and value=#appearances\n",
    "    \"\"\"\n",
    "    # Read the given file\n",
    "    data = []\n",
    "    with open(file_path, 'r') as f:\n",
    "        for line in f:\n",
    "            data += line.split()\n",
    "    # Parse the content\n",
    "    partialResult = {}\n",
    "    for entry in data:\n",
    "        if entry in partialResult:\n",
    "            partialResult[entry] += 1\n",
    "        else:\n",
    "            partialResult[entry] = 1\n",
    "    return partialResult"
   ]
  },
  {
   "cell_type": "code",
   "execution_count": 5,
   "metadata": {},
   "outputs": [
    {
     "name": "stdout",
     "output_type": "stream",
     "text": [
      "Found task: merge_two_dicts\n"
     ]
    }
   ],
   "source": [
    "@task(returns=dict, priority=True)\n",
    "def merge_two_dicts(dic1, dic2):\n",
    "    \"\"\"\n",
    "    Update a dictionary with another dictionary.\n",
    "    :param dic1: first dictionary\n",
    "    :param dic2: second dictionary\n",
    "    :return: dic1+=dic2\n",
    "    \"\"\"\n",
    "    for k in dic2:\n",
    "        if k in dic1:\n",
    "            dic1[k] += dic2[k]\n",
    "        else:\n",
    "            dic1[k] = dic2[k]\n",
    "    return dic1"
   ]
  },
  {
   "cell_type": "markdown",
   "metadata": {},
   "source": [
    "Main wordcount code:"
   ]
  },
  {
   "cell_type": "code",
   "execution_count": 6,
   "metadata": {},
   "outputs": [],
   "source": [
    "from pycompss.api.api import compss_wait_on\n",
    "\n",
    "# Get the dataset path\n",
    "path_dataset = os.getcwd() + '/dataset'\n",
    "\n",
    "# Construct a list with the file's paths from the dataset\n",
    "partial_result = []\n",
    "for file_name in os.listdir(path_dataset):\n",
    "    f = os.path.join(path_dataset, file_name)\n",
    "    partial_result.append(word_count(f))\n",
    "    \n",
    "# Accumulate the partial results to get the final result.\n",
    "result = {}\n",
    "for partial in partial_result:\n",
    "    result = merge_two_dicts(result, partial)\n",
    "\n",
    "# Wait for result\n",
    "result = compss_wait_on(result)"
   ]
  },
  {
   "cell_type": "markdown",
   "metadata": {},
   "source": [
    "Now lets see the results:"
   ]
  },
  {
   "cell_type": "code",
   "execution_count": 7,
   "metadata": {},
   "outputs": [
    {
     "name": "stdout",
     "output_type": "stream",
     "text": [
      "Result:\n",
      "{'Adipisci': 227,\n",
      " 'Aliquam': 233,\n",
      " 'Amet': 207,\n",
      " 'Consectetur': 201,\n",
      " 'Dolor': 198,\n",
      " 'Dolore': 236,\n",
      " 'Dolorem': 232,\n",
      " 'Eius': 251,\n",
      " 'Est': 197,\n",
      " 'Etincidunt': 232,\n",
      " 'Ipsum': 228,\n",
      " 'Labore': 229,\n",
      " 'Magnam': 195,\n",
      " 'Modi': 201,\n",
      " 'Neque': 205,\n",
      " 'Non': 226,\n",
      " 'Numquam': 253,\n",
      " 'Porro': 205,\n",
      " 'Quaerat': 217,\n",
      " 'Quiquia': 212,\n",
      " 'Quisquam': 214,\n",
      " 'Sed': 225,\n",
      " 'Sit': 220,\n",
      " 'Tempora': 189,\n",
      " 'Ut': 217,\n",
      " 'Velit': 218,\n",
      " 'Voluptatem': 235,\n",
      " 'adipisci': 1078,\n",
      " 'aliquam': 1107,\n",
      " 'amet': 1044,\n",
      " 'consectetur': 1073,\n",
      " 'dolor': 1120,\n",
      " 'dolore': 1065,\n",
      " 'dolorem': 1107,\n",
      " 'eius': 1048,\n",
      " 'est': 1101,\n",
      " 'etincidunt': 1114,\n",
      " 'ipsum': 1061,\n",
      " 'labore': 1070,\n",
      " 'magnam': 1096,\n",
      " 'modi': 1127,\n",
      " 'neque': 1093,\n",
      " 'non': 1099,\n",
      " 'numquam': 1094,\n",
      " 'porro': 1101,\n",
      " 'quaerat': 1086,\n",
      " 'quiquia': 1079,\n",
      " 'quisquam': 1144,\n",
      " 'sed': 1109,\n",
      " 'sit': 1130,\n",
      " 'tempora': 1064,\n",
      " 'ut': 1070,\n",
      " 'velit': 1105,\n",
      " 'voluptatem': 1121}\n",
      "Total words: 35409\n"
     ]
    }
   ],
   "source": [
    "from pprint import pprint\n",
    "print(\"Result:\")\n",
    "pprint(result)\n",
    "print(\"Total words: {}\".format(sum(result.values())))"
   ]
  },
  {
   "cell_type": "markdown",
   "metadata": {},
   "source": [
    "Plot the results:"
   ]
  },
  {
   "cell_type": "code",
   "execution_count": 8,
   "metadata": {},
   "outputs": [
    {
     "data": {
      "image/png": "[encoded data removed]",
      "text/plain": [
       "<Figure size 1224x360 with 1 Axes>"
      ]
     },
     "metadata": {},
     "output_type": "display_data"
    }
   ],
   "source": [
    "%matplotlib inline\n",
    "import matplotlib.pyplot as plt\n",
    "import numpy as np\n",
    "import matplotlib.pyplot as plt\n",
    "\n",
    "words = result.keys()\n",
    "y_pos = np.arange(len(words))\n",
    "appearances = result.values()\n",
    "\n",
    "plt.rcParams['figure.figsize'] = [17, 5]\n",
    "plt.bar(y_pos, appearances, align='center', alpha=0.5)\n",
    "plt.grid(axis='y')\n",
    "plt.xticks(y_pos, words, rotation=90)\n",
    "plt.ylabel('# appearances')\n",
    "plt.xlabel('Word')\n",
    "plt.title('Wordcount')\n",
    "\n",
    "plt.show()"
   ]
  },
  {
   "cell_type": "code",
   "execution_count": 9,
   "metadata": {},
   "outputs": [
    {
     "name": "stdout",
     "output_type": "stream",
     "text": [
      "****************************************************\n",
      "*************** STOPPING PyCOMPSs ******************\n",
      "****************************************************\n",
      "Warning: some of the variables used with PyCOMPSs may\n",
      "         have not been brought to the master.\n",
      "****************************************************\n"
     ]
    }
   ],
   "source": [
    "ipycompss.stop()"
   ]
  }
 ],
 "metadata": {
  "kernelspec": {
   "display_name": "Python 2",
   "language": "python",
   "name": "python2"
  },
  "language_info": {
   "codemirror_mode": {
    "name": "ipython",
    "version": 2
   },
   "file_extension": ".py",
   "mimetype": "text/x-python",
   "name": "python",
   "nbconvert_exporter": "python",
   "pygments_lexer": "ipython2",
   "version": "2.7.14"
  },
  "widgets": {
   "application/vnd.jupyter.widget-state+json": {
    "state": {},
    "version_major": 2,
    "version_minor": 0
   }
  }
 },
 "nbformat": 4,
 "nbformat_minor": 1
}
